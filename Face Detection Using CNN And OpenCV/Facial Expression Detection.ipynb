{
 "cells": [
  {
   "cell_type": "code",
   "execution_count": 1,
   "id": "32c34f54",
   "metadata": {},
   "outputs": [],
   "source": [
    "import cv2\n",
    "from tensorflow.keras.models import load_model\n",
    "from tensorflow.keras.preprocessing.image import img_to_array\n",
    "from tensorflow.keras.preprocessing import image\n",
    "import numpy as np\n"
   ]
  },
  {
   "cell_type": "code",
   "execution_count": 2,
   "id": "49e5af8f",
   "metadata": {},
   "outputs": [],
   "source": [
    "face_classifier= cv2.CascadeClassifier(r'C:\\Users\\infinity\\Desktop\\face-expression-recognition-dataset\\haarcascade_frontalface_default.xml')"
   ]
  },
  {
   "cell_type": "code",
   "execution_count": 3,
   "id": "a5f14000",
   "metadata": {},
   "outputs": [],
   "source": [
    "model= load_model(r'C:\\Users\\infinity\\Desktop\\face-expression-recognition-dataset\\Emotion_detector_model.h5')"
   ]
  },
  {
   "cell_type": "code",
   "execution_count": 4,
   "id": "5919bf00",
   "metadata": {},
   "outputs": [],
   "source": [
    "class_label= ['Angry', 'Happy', 'Sad', 'Neutral', 'Surprise']"
   ]
  },
  {
   "cell_type": "code",
   "execution_count": 5,
   "id": "f199d848",
   "metadata": {},
   "outputs": [],
   "source": [
    "cap= cv2.VideoCapture(0)\n",
    "while True:\n",
    "    ret, frame=cap.read()\n",
    "    gray=cv2.cvtColor(frame, cv2.COLOR_BGR2GRAY)\n",
    "    faces=face_classifier.detectMultiScale(gray, 1.3,5)\n",
    "    \n",
    "    for (x,y,w,h) in faces:\n",
    "        cv2.rectangle(frame, (x,y), (x+w,y+h), (255,0,0), 2)\n",
    "        roi_gray=gray[y:y+h, x:x+w]\n",
    "        roi_gray=cv2.resize(roi_gray, (48,48), interpolation=cv2.INTER_AREA)\n",
    "        \n",
    "        if np.sum([roi_gray]) !=0:\n",
    "            roi=roi_gray.astype('float')/255.0\n",
    "            roi=img_to_array(roi)\n",
    "            roi=np.expand_dims(roi, axis=0)\n",
    "            \n",
    "            #make a prediction on the ROI, then look up for Classes\n",
    "            \n",
    "            preds= model.predict(roi)[0]\n",
    "            label=class_label[preds.argmax()]\n",
    "            label_position=(x,y)\n",
    "            cv2.putText(frame, label, label_position, cv2.FONT_HERSHEY_SIMPLEX,2,(0,255,0),3)\n",
    "            \n",
    "        else :\n",
    "            cv2.putTexttText(frame,'NO FACE FOUND',(20,60), cv2.FONT_HERSHEY_SIMPLEX,2,(0,255,0),3)\n",
    "\n",
    "    cv2.imshow('Emotion Detector', frame)\n",
    "    if cv2.waitKey(1) & 0xFF== ord('q'):\n",
    "        break\n",
    "    \n",
    "    \n",
    "cap.release()\n",
    "cv2.destroyAllWindows()"
   ]
  },
  {
   "cell_type": "code",
   "execution_count": null,
   "id": "ecc6c0fd",
   "metadata": {},
   "outputs": [],
   "source": []
  }
 ],
 "metadata": {
  "kernelspec": {
   "display_name": "Python 3",
   "language": "python",
   "name": "python3"
  },
  "language_info": {
   "codemirror_mode": {
    "name": "ipython",
    "version": 3
   },
   "file_extension": ".py",
   "mimetype": "text/x-python",
   "name": "python",
   "nbconvert_exporter": "python",
   "pygments_lexer": "ipython3",
   "version": "3.8.8"
  }
 },
 "nbformat": 4,
 "nbformat_minor": 5
}
