{
 "cells": [
  {
   "cell_type": "code",
   "execution_count": 1,
   "id": "2113a135",
   "metadata": {},
   "outputs": [],
   "source": [
    "from tensorflow.keras.applications.mobilenet_v2 import preprocess_input\n",
    "from tensorflow.keras.preprocessing.image import img_to_array\n",
    "from tensorflow.keras.models import load_model\n",
    "import numpy as np\n",
    "import cv2\n",
    "import os"
   ]
  },
  {
   "cell_type": "code",
   "execution_count": 2,
   "id": "22760080",
   "metadata": {},
   "outputs": [],
   "source": [
    "prototxpath=os.path.sep.join([r'C:\\Users\\infinity\\Desktop\\Mask Detection\\deploy.prototxt'])\n",
    "weightspath=os.path.sep.join([r'C:\\Users\\infinity\\Desktop\\Mask Detection\\res10_300x300_ssd_iter_140000.caffemodel'])"
   ]
  },
  {
   "cell_type": "code",
   "execution_count": 3,
   "id": "f14cdd96",
   "metadata": {},
   "outputs": [
    {
     "data": {
      "text/plain": [
       "'C:\\\\Users\\\\infinity\\\\Desktop\\\\Mask Detection\\\\deploy.prototxt'"
      ]
     },
     "execution_count": 3,
     "metadata": {},
     "output_type": "execute_result"
    }
   ],
   "source": [
    "prototxpath"
   ]
  },
  {
   "cell_type": "code",
   "execution_count": 4,
   "id": "45d67077",
   "metadata": {},
   "outputs": [
    {
     "data": {
      "text/plain": [
       "'C:\\\\Users\\\\infinity\\\\Desktop\\\\Mask Detection\\\\res10_300x300_ssd_iter_140000.caffemodel'"
      ]
     },
     "execution_count": 4,
     "metadata": {},
     "output_type": "execute_result"
    }
   ],
   "source": [
    "weightspath"
   ]
  },
  {
   "cell_type": "code",
   "execution_count": 5,
   "id": "0e694f8c",
   "metadata": {},
   "outputs": [],
   "source": [
    "net= cv2.dnn.readNet(prototxpath, weightspath)"
   ]
  },
  {
   "cell_type": "code",
   "execution_count": 6,
   "id": "e060706e",
   "metadata": {},
   "outputs": [],
   "source": [
    "model=load_model(r'C:\\Users\\infinity\\Desktop\\Mask Detection\\model\\maskdetection_model.model')"
   ]
  },
  {
   "cell_type": "code",
   "execution_count": 7,
   "id": "0c607128",
   "metadata": {},
   "outputs": [],
   "source": [
    "image= cv2.imread(r'C:\\Users\\infinity\\Desktop\\Mask Detection\\33.jpg')"
   ]
  },
  {
   "cell_type": "code",
   "execution_count": 8,
   "id": "abac087c",
   "metadata": {},
   "outputs": [
    {
     "data": {
      "text/plain": [
       "array([[[191, 219, 213],\n",
       "        [190, 218, 212],\n",
       "        [189, 217, 211],\n",
       "        ...,\n",
       "        [253, 253, 253],\n",
       "        [253, 254, 252],\n",
       "        [253, 254, 252]],\n",
       "\n",
       "       [[191, 219, 213],\n",
       "        [191, 219, 213],\n",
       "        [190, 218, 212],\n",
       "        ...,\n",
       "        [253, 253, 253],\n",
       "        [253, 254, 252],\n",
       "        [253, 254, 252]],\n",
       "\n",
       "       [[194, 220, 214],\n",
       "        [193, 219, 213],\n",
       "        [192, 218, 212],\n",
       "        ...,\n",
       "        [253, 253, 253],\n",
       "        [253, 254, 252],\n",
       "        [253, 254, 252]],\n",
       "\n",
       "       ...,\n",
       "\n",
       "       [[219, 208, 240],\n",
       "        [217, 206, 238],\n",
       "        [214, 203, 235],\n",
       "        ...,\n",
       "        [103, 125, 197],\n",
       "        [ 96, 115, 190],\n",
       "        [ 93, 109, 185]],\n",
       "\n",
       "       [[212, 208, 237],\n",
       "        [214, 211, 237],\n",
       "        [217, 214, 240],\n",
       "        ...,\n",
       "        [113, 135, 207],\n",
       "        [111, 133, 205],\n",
       "        [108, 129, 204]],\n",
       "\n",
       "       [[210, 209, 235],\n",
       "        [212, 211, 237],\n",
       "        [215, 215, 239],\n",
       "        ...,\n",
       "        [113, 135, 207],\n",
       "        [109, 133, 205],\n",
       "        [106, 129, 204]]], dtype=uint8)"
      ]
     },
     "execution_count": 8,
     "metadata": {},
     "output_type": "execute_result"
    }
   ],
   "source": [
    "image"
   ]
  },
  {
   "cell_type": "code",
   "execution_count": 9,
   "id": "d550f3fa",
   "metadata": {},
   "outputs": [
    {
     "data": {
      "text/plain": [
       "(194, 259, 3)"
      ]
     },
     "execution_count": 9,
     "metadata": {},
     "output_type": "execute_result"
    }
   ],
   "source": [
    "image.shape"
   ]
  },
  {
   "cell_type": "code",
   "execution_count": 10,
   "id": "691d522a",
   "metadata": {},
   "outputs": [],
   "source": [
    "(h,w)=image.shape[:2]"
   ]
  },
  {
   "cell_type": "code",
   "execution_count": 11,
   "id": "57e63eb6",
   "metadata": {},
   "outputs": [],
   "source": [
    "blob=cv2.dnn.blobFromImage(image, 1.0, (300,300), (104.0, 177.0, 123.0))"
   ]
  },
  {
   "cell_type": "code",
   "execution_count": 12,
   "id": "9407f04a",
   "metadata": {},
   "outputs": [
    {
     "data": {
      "text/plain": [
       "array([[[191, 219, 213],\n",
       "        [190, 218, 212],\n",
       "        [189, 217, 211],\n",
       "        ...,\n",
       "        [253, 253, 253],\n",
       "        [253, 254, 252],\n",
       "        [253, 254, 252]],\n",
       "\n",
       "       [[191, 219, 213],\n",
       "        [191, 219, 213],\n",
       "        [190, 218, 212],\n",
       "        ...,\n",
       "        [253, 253, 253],\n",
       "        [253, 254, 252],\n",
       "        [253, 254, 252]],\n",
       "\n",
       "       [[194, 220, 214],\n",
       "        [193, 219, 213],\n",
       "        [192, 218, 212],\n",
       "        ...,\n",
       "        [253, 253, 253],\n",
       "        [253, 254, 252],\n",
       "        [253, 254, 252]],\n",
       "\n",
       "       ...,\n",
       "\n",
       "       [[219, 208, 240],\n",
       "        [217, 206, 238],\n",
       "        [214, 203, 235],\n",
       "        ...,\n",
       "        [103, 125, 197],\n",
       "        [ 96, 115, 190],\n",
       "        [ 93, 109, 185]],\n",
       "\n",
       "       [[212, 208, 237],\n",
       "        [214, 211, 237],\n",
       "        [217, 214, 240],\n",
       "        ...,\n",
       "        [113, 135, 207],\n",
       "        [111, 133, 205],\n",
       "        [108, 129, 204]],\n",
       "\n",
       "       [[210, 209, 235],\n",
       "        [212, 211, 237],\n",
       "        [215, 215, 239],\n",
       "        ...,\n",
       "        [113, 135, 207],\n",
       "        [109, 133, 205],\n",
       "        [106, 129, 204]]], dtype=uint8)"
      ]
     },
     "execution_count": 12,
     "metadata": {},
     "output_type": "execute_result"
    }
   ],
   "source": [
    "image"
   ]
  },
  {
   "cell_type": "code",
   "execution_count": 13,
   "id": "a21d3d02",
   "metadata": {},
   "outputs": [
    {
     "data": {
      "text/plain": [
       "(1, 3, 300, 300)"
      ]
     },
     "execution_count": 13,
     "metadata": {},
     "output_type": "execute_result"
    }
   ],
   "source": [
    "blob.shape"
   ]
  },
  {
   "cell_type": "code",
   "execution_count": 14,
   "id": "7db0b983",
   "metadata": {},
   "outputs": [],
   "source": [
    "net.setInput(blob)\n",
    "detection= net.forward()"
   ]
  },
  {
   "cell_type": "code",
   "execution_count": 15,
   "id": "fce3cb6e",
   "metadata": {},
   "outputs": [
    {
     "data": {
      "text/plain": [
       "array([[[[0.        , 1.        , 0.99060166, ..., 0.38913184,\n",
       "          0.9756048 , 1.2486811 ],\n",
       "         [0.        , 1.        , 0.81932384, ..., 0.07317504,\n",
       "          0.652816  , 0.90807915],\n",
       "         [0.        , 1.        , 0.2483609 , ..., 2.045261  ,\n",
       "          2.6716063 , 2.9189897 ],\n",
       "         ...,\n",
       "         [0.        , 0.        , 0.        , ..., 0.        ,\n",
       "          0.        , 0.        ],\n",
       "         [0.        , 0.        , 0.        , ..., 0.        ,\n",
       "          0.        , 0.        ],\n",
       "         [0.        , 0.        , 0.        , ..., 0.        ,\n",
       "          0.        , 0.        ]]]], dtype=float32)"
      ]
     },
     "execution_count": 15,
     "metadata": {},
     "output_type": "execute_result"
    }
   ],
   "source": [
    "detection"
   ]
  },
  {
   "cell_type": "code",
   "execution_count": 16,
   "id": "c5f1d1d3",
   "metadata": {},
   "outputs": [],
   "source": [
    "#loop over the detections\n",
    "for i in range(0,detection.shape[2]):\n",
    "    confidence=detection[0,0,i,2]\n",
    "    \n",
    "    \n",
    "    if confidence>0.5:\n",
    "        #we need the X,Y coordinates\n",
    "        box=detection[0,0,i,3:7]*np.array([w,h,w,h])\n",
    "        (startX,startY,endX,endY)=box.astype('int')\n",
    "        \n",
    "        #ensure the bounding boxes fall within the dimensions of the frame\n",
    "        (startX,startY)=(max(0,startX),max(0,startY))\n",
    "        (endX,endY)=(min(w-1,endX), min(h-1,endY))\n",
    "        \n",
    "        \n",
    "        #extract the face ROI, convert it from BGR to RGB channel, resize it to 224,224 and preprocess it\n",
    "        face=image[startY:endY, startX:endX]\n",
    "        \n",
    "        face=cv2.cvtColor(face,cv2.COLOR_BGR2RGB)\n",
    "        face=cv2.resize(face,(224,224))\n",
    "        face=img_to_array(face)\n",
    "        face=preprocess_input(face)\n",
    "        face=np.expand_dims(face,axis=0)\n",
    "        \n",
    "        (mask,withoutMask)=model.predict(face)[0]\n",
    "        \n",
    "        #determine the class label and color we will use to draw the bounding box and text\n",
    "        label='Mask' if mask>withoutMask else 'No Mask'\n",
    "        color=(0,255,0) if label=='Mask' else (0,0,255)\n",
    "        #include the probability in the label\n",
    "        label=\"{}: {:.2f}%\".format(label,max(mask,withoutMask)*100)\n",
    "        \n",
    "        #display the label and bounding boxes\n",
    "        cv2.putText(image,label,(startX,startY-10),cv2.FONT_HERSHEY_SIMPLEX,0.45,color,2)\n",
    "        cv2.rectangle(image,(startX,startY),(endX,endY),color,2)\n",
    "        \n",
    "        \n",
    "        \n",
    "cv2.imshow(\"OutPut\",image)\n",
    "cv2.waitKey(0)\n",
    "cv2.destroyAllWindows()"
   ]
  },
  {
   "cell_type": "code",
   "execution_count": null,
   "id": "9a971e6f",
   "metadata": {},
   "outputs": [],
   "source": []
  }
 ],
 "metadata": {
  "kernelspec": {
   "display_name": "Python 3",
   "language": "python",
   "name": "python3"
  },
  "language_info": {
   "codemirror_mode": {
    "name": "ipython",
    "version": 3
   },
   "file_extension": ".py",
   "mimetype": "text/x-python",
   "name": "python",
   "nbconvert_exporter": "python",
   "pygments_lexer": "ipython3",
   "version": "3.8.8"
  }
 },
 "nbformat": 4,
 "nbformat_minor": 5
}
